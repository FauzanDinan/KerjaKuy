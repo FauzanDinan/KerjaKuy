{
 "cells": [
  {
   "attachments": {},
   "cell_type": "markdown",
   "metadata": {},
   "source": [
    "# Job Recommendations \n",
    "\n",
    "This notebook creates a model, to recommend job positions given a position requirements description . This is done only for IT jobs. "
   ]
  },
  {
   "cell_type": "code",
   "execution_count": 2,
   "metadata": {
    "_cell_guid": "b1076dfc-b9ad-4769-8c92-a6c4dae69d19",
    "_uuid": "8f2839f25d086af736a60e9eeb907d3b93b6e0e5"
   },
   "outputs": [
    {
     "name": "stderr",
     "output_type": "stream",
     "text": [
      "[nltk_data] Downloading package punkt to\n",
      "[nltk_data]     C:\\Users\\INES\\AppData\\Roaming\\nltk_data...\n",
      "[nltk_data]   Package punkt is already up-to-date!\n",
      "[nltk_data] Downloading package stopwords to\n",
      "[nltk_data]     C:\\Users\\INES\\AppData\\Roaming\\nltk_data...\n",
      "[nltk_data]   Package stopwords is already up-to-date!\n"
     ]
    }
   ],
   "source": [
    "# This Python 3 environment comes with many helpful analytics libraries installed\n",
    "# It is defined by the kaggle/python docker image: https://github.com/kaggle/docker-python\n",
    "# For example, here's several helpful packages to load in \n",
    "\n",
    "import numpy as np # linear algebra\n",
    "import pandas as pd # data processing, CSV file I/O (e.g. pd.read_csv)\n",
    "from sklearn.feature_extraction import DictVectorizer\n",
    "from sklearn.feature_extraction.text import CountVectorizer\n",
    "from sklearn.model_selection import train_test_split\n",
    "# Input data files are available in the \"../input/\" directory.\n",
    "# For example, running this (by clicking run or pressing Shift+Enter) will list all files under the input directory\n",
    "import nltk\n",
    "nltk.download('punkt')\n",
    "nltk.download('stopwords')\n",
    "from nltk.corpus import stopwords\n",
    "from sklearn.preprocessing import LabelEncoder\n",
    "from sklearn.mixture import GaussianMixture\n",
    "from sklearn.cluster import KMeans\n",
    "from sklearn.metrics import accuracy_score, auc, roc_curve, roc_auc_score\n",
    "import re\n",
    "\n",
    "# import os\n",
    "# for dirname, _, filenames in os.walk('/kaggle/input'):\n",
    "#     for filename in filenames:\n",
    "#         print(os.path.join(dirname, filename))\n",
    "\n",
    "# Any results you write to the current directory are saved as output.\n",
    "\n"
   ]
  },
  {
   "cell_type": "code",
   "execution_count": 3,
   "metadata": {},
   "outputs": [
    {
     "name": "stdout",
     "output_type": "stream",
     "text": [
      "Index(['Posisi', 'Perusahaan ', 'Lokasi', 'Salary (minimum per bulan)',\n",
      "       'Tipe Pekerjaan', 'Kualifikasi', 'Deskripsi Pekerjaan ', 'Link'],\n",
      "      dtype='object')\n"
     ]
    },
    {
     "data": {
      "text/html": [
       "<div>\n",
       "<style scoped>\n",
       "    .dataframe tbody tr th:only-of-type {\n",
       "        vertical-align: middle;\n",
       "    }\n",
       "\n",
       "    .dataframe tbody tr th {\n",
       "        vertical-align: top;\n",
       "    }\n",
       "\n",
       "    .dataframe thead th {\n",
       "        text-align: right;\n",
       "    }\n",
       "</style>\n",
       "<table border=\"1\" class=\"dataframe\">\n",
       "  <thead>\n",
       "    <tr style=\"text-align: right;\">\n",
       "      <th></th>\n",
       "      <th>Kualifikasi</th>\n",
       "      <th>Posisi</th>\n",
       "      <th>Deskripsi Pekerjaan</th>\n",
       "      <th>Tipe Pekerjaan</th>\n",
       "    </tr>\n",
       "  </thead>\n",
       "  <tbody>\n",
       "    <tr>\n",
       "      <th>0</th>\n",
       "      <td>Wanita\\nUsia maksimal 30 tahun\\nMemiliki penga...</td>\n",
       "      <td>Talent Host Streaming ( Freelance )</td>\n",
       "      <td>Melakukan penjualan produk secara live di Tik ...</td>\n",
       "      <td>Part-time</td>\n",
       "    </tr>\n",
       "    <tr>\n",
       "      <th>1</th>\n",
       "      <td>Technical requirements to perform the work\\nAc...</td>\n",
       "      <td>Data Analyst</td>\n",
       "      <td>Work up to 20 hours per week.\\nEarn a competit...</td>\n",
       "      <td>Part-time</td>\n",
       "    </tr>\n",
       "    <tr>\n",
       "      <th>2</th>\n",
       "      <td>Pria &amp; Wanita \\n18 - 25 tahun \\nMin. pengalama...</td>\n",
       "      <td>Staff Operational</td>\n",
       "      <td>NaN</td>\n",
       "      <td>Full-time</td>\n",
       "    </tr>\n",
       "    <tr>\n",
       "      <th>3</th>\n",
       "      <td>Pria atau Wanita\\nUsia maksimal 26 tahun\\nTing...</td>\n",
       "      <td>Server Tasty Kitchen (Area Jabodetabek)</td>\n",
       "      <td>NaN</td>\n",
       "      <td>Part-time</td>\n",
       "    </tr>\n",
       "    <tr>\n",
       "      <th>4</th>\n",
       "      <td>Usia Maksimal 30 tahun\\nPendidikan Minimal Lul...</td>\n",
       "      <td>Admin Online (Cengkareng)</td>\n",
       "      <td>NaN</td>\n",
       "      <td>Full-time</td>\n",
       "    </tr>\n",
       "  </tbody>\n",
       "</table>\n",
       "</div>"
      ],
      "text/plain": [
       "                                         Kualifikasi   \n",
       "0  Wanita\\nUsia maksimal 30 tahun\\nMemiliki penga...  \\\n",
       "1  Technical requirements to perform the work\\nAc...   \n",
       "2  Pria & Wanita \\n18 - 25 tahun \\nMin. pengalama...   \n",
       "3  Pria atau Wanita\\nUsia maksimal 26 tahun\\nTing...   \n",
       "4  Usia Maksimal 30 tahun\\nPendidikan Minimal Lul...   \n",
       "\n",
       "                                    Posisi   \n",
       "0      Talent Host Streaming ( Freelance )  \\\n",
       "1                             Data Analyst   \n",
       "2                        Staff Operational   \n",
       "3  Server Tasty Kitchen (Area Jabodetabek)   \n",
       "4                Admin Online (Cengkareng)   \n",
       "\n",
       "                                Deskripsi Pekerjaan  Tipe Pekerjaan  \n",
       "0  Melakukan penjualan produk secara live di Tik ...      Part-time  \n",
       "1  Work up to 20 hours per week.\\nEarn a competit...      Part-time  \n",
       "2                                                NaN      Full-time  \n",
       "3                                                NaN      Part-time  \n",
       "4                                                NaN      Full-time  "
      ]
     },
     "execution_count": 3,
     "metadata": {},
     "output_type": "execute_result"
    }
   ],
   "source": [
    "data = pd.read_excel(r\"C:\\ikhsan\\UNAIR\\MBKM\\Bangkit\\1. Capstone\\data website indeed Jakarta (data 30 May 2023).xlsx\", \"clean data\")\n",
    "print(data.columns)\n",
    "# selecting only IT Jobs\n",
    "df = data\n",
    "# selecting \n",
    "cols = ['Kualifikasi', 'Posisi', 'Deskripsi Pekerjaan ', 'Tipe Pekerjaan']\n",
    "df = df[cols]\n",
    "df.head(5)"
   ]
  },
  {
   "attachments": {},
   "cell_type": "markdown",
   "metadata": {},
   "source": [
    "# Modifying Job Titles\n",
    "Selecting only top 21 job titles, to manage class imbalance"
   ]
  },
  {
   "cell_type": "code",
   "execution_count": 4,
   "metadata": {},
   "outputs": [
    {
     "data": {
      "text/plain": [
       "Posisi\n",
       "Telemarketing                  5\n",
       "Staff Gudang                   5\n",
       "Cook Helper                    4\n",
       "Kasir                          3\n",
       "Beautician                     2\n",
       "                              ..\n",
       "KYC Agent                      1\n",
       "Talent / Model [Min LD 100]    1\n",
       "Guru Geografi                  1\n",
       "SPG / SPB Elektronik           1\n",
       "Staff Logistik (SLO-03)        1\n",
       "Name: count, Length: 287, dtype: int64"
      ]
     },
     "execution_count": 4,
     "metadata": {},
     "output_type": "execute_result"
    }
   ],
   "source": [
    "classes = df['Posisi'].value_counts()\n",
    "keys = classes.keys().to_list()\n",
    "\n",
    "df = df[df['Posisi'].isin(keys)]\n",
    "df['Posisi'].value_counts()"
   ]
  },
  {
   "attachments": {},
   "cell_type": "markdown",
   "metadata": {},
   "source": [
    "Change job titles to base title. For exmaple, chaning Senior Java Developer to Java Developer.   "
   ]
  },
  {
   "cell_type": "code",
   "execution_count": 5,
   "metadata": {},
   "outputs": [
    {
     "data": {
      "text/plain": [
       "Posisi\n",
       "Telemarketing                          5\n",
       "Staff Gudang                           5\n",
       "Cook Helper                            4\n",
       "Kasir                                  3\n",
       "Sales Advisor                          2\n",
       "                                      ..\n",
       "Housekeeping                           1\n",
       "Customer Service Specialist            1\n",
       "FREELANCE Live Streamer Marketplace    1\n",
       "KYC Agent                              1\n",
       "Staff Logistik                         1\n",
       "Name: count, Length: 282, dtype: int64"
      ]
     },
     "execution_count": 5,
     "metadata": {},
     "output_type": "execute_result"
    }
   ],
   "source": [
    "posisiFix = []\n",
    "for i in df['Posisi']:\n",
    "    i = re.sub(\"\\(.*?\\)|\\[.*?\\]|-.*\", \"\", i)\n",
    "    # print(i)\n",
    "    posisiFix.append(i)\n",
    "\n",
    "# print(posisiFix)\n",
    "posisiFix = pd.DataFrame(posisiFix)\n",
    "# posisiFix.head(5)\n",
    "df['Posisi'] = posisiFix[0].values\n",
    "df['Posisi'].value_counts()"
   ]
  },
  {
   "attachments": {},
   "cell_type": "markdown",
   "metadata": {},
   "source": [
    "# Building custom tokenizer to process text"
   ]
  },
  {
   "cell_type": "code",
   "execution_count": 6,
   "metadata": {},
   "outputs": [],
   "source": [
    "from nltk import word_tokenize          \n",
    "from nltk.stem import WordNetLemmatizer \n",
    "class LemmaTokenizer(object):\n",
    "    def __init__(self):\n",
    "        # lemmatize text - convert to base form \n",
    "        self.wnl = WordNetLemmatizer()\n",
    "        # creating stopwords list, to ignore lemmatizing stopwords \n",
    "        self.stopwords = stopwords.words('indonesian')\n",
    "    def __call__(self, doc):\n",
    "        return [self.wnl.lemmatize(t) for t in word_tokenize(doc) if t not in self.stopwords]\n",
    "\n",
    "# removing new line characters, and certain hypen patterns                  \n",
    "df['Kualifikasi'] = df['Kualifikasi'].apply(lambda x: x.replace('\\n', ' ').replace('\\r', '').replace('- ', ''). replace(' - ', ' to '))"
   ]
  },
  {
   "attachments": {},
   "cell_type": "markdown",
   "metadata": {},
   "source": [
    "# Featurizing Text"
   ]
  },
  {
   "cell_type": "code",
   "execution_count": 46,
   "metadata": {},
   "outputs": [
    {
     "name": "stderr",
     "output_type": "stream",
     "text": [
      "c:\\Users\\INES\\AppData\\Local\\Programs\\Python\\Python311\\Lib\\site-packages\\sklearn\\feature_extraction\\text.py:528: UserWarning: The parameter 'token_pattern' will not be used since 'tokenizer' is not None'\n",
      "  warnings.warn(\n"
     ]
    }
   ],
   "source": [
    "from sklearn.feature_extraction.text import TfidfVectorizer\n",
    "# train features and labels \n",
    "y = df['Posisi']\n",
    "X = df['Kualifikasi']\n",
    "\n",
    "# allPreferensi = []\n",
    "# for i in range(0, 3):\n",
    "#     preferensi = input(\"Masukkan preferensi: \")\n",
    "#     allPreferensi.append(preferensi)\n",
    "#     if i < 2:\n",
    "#         answer = input(\"Mau tambah preferensi?\")\n",
    "#     if answer != (\"Y\" or \"Yes\" or \"y\" or \"ya\"):\n",
    "#         break\n",
    "# strPreferensi = ', '.join(allPreferensi)\n",
    "# preferensi = [strPreferensi]\n",
    "# X = pd.DataFrame(preferensi, columns = [\"Preferensi\"])\n",
    "\n",
    "# tdif feature rep \n",
    "vectorizer = TfidfVectorizer(tokenizer=LemmaTokenizer(), stop_words=stopwords.words('indonesian'))\n",
    "vectorizer.fit(X)\n",
    "\n",
    "# transoforming text to tdif features\n",
    "tfidf_matrix = vectorizer.transform(X)\n",
    "\n",
    "# sparse matrix to dense matrix for training\n",
    "X_tdif = tfidf_matrix.toarray()\n",
    "\n",
    "# encoding text labels in categories \n",
    "enc = LabelEncoder() \n",
    "enc.fit(y.values)\n",
    "y_enc=enc.transform(y.values)\n",
    "\n",
    "X_train_words, X_test_words, y_train, y_test = train_test_split(X, y_enc, test_size=0.3, random_state=10)\n",
    "\n",
    "X_train = vectorizer.transform(X_train_words)\n",
    "X_train = X_train.toarray()\n",
    "\n",
    "X_test = vectorizer.transform(X_test_words)\n",
    "X_test = X_test.toarray()\n"
   ]
  },
  {
   "attachments": {},
   "cell_type": "markdown",
   "metadata": {},
   "source": [
    "# Training Naive Bayes\n",
    "Looks pretty overfit"
   ]
  },
  {
   "cell_type": "code",
   "execution_count": 47,
   "metadata": {},
   "outputs": [
    {
     "name": "stdout",
     "output_type": "stream",
     "text": [
      "Train acc: 0.944954128440367\n",
      "Test acc: 0.02127659574468085\n"
     ]
    }
   ],
   "source": [
    "from sklearn.naive_bayes import GaussianNB, MultinomialNB\n",
    "from sklearn.discriminant_analysis import LinearDiscriminantAnalysis\n",
    "gnb = GaussianNB()\n",
    "train_preds = gnb.fit(X_train, y_train).predict(X_train)\n",
    "test_preds = gnb.predict(X_test)\n",
    "\n",
    "print('Train acc: {0}'.format(accuracy_score(y_train, train_preds)))\n",
    "print('Test acc: {0}'.format(accuracy_score(y_test, test_preds)))\n"
   ]
  },
  {
   "attachments": {},
   "cell_type": "markdown",
   "metadata": {},
   "source": [
    "# Training Logistic Regression\n",
    "By modifiying the maximum number of iterations, and regularization, C, the above experienced overfitting was reduced significantly \n"
   ]
  },
  {
   "cell_type": "code",
   "execution_count": 48,
   "metadata": {},
   "outputs": [
    {
     "name": "stderr",
     "output_type": "stream",
     "text": [
      "[Parallel(n_jobs=1)]: Using backend SequentialBackend with 1 concurrent workers.\n"
     ]
    },
    {
     "name": "stdout",
     "output_type": "stream",
     "text": [
      "Train acc: 0.944954128440367\n",
      "Test acc: 0.031914893617021274\n"
     ]
    },
    {
     "name": "stderr",
     "output_type": "stream",
     "text": [
      "[Parallel(n_jobs=1)]: Done   1 out of   1 | elapsed:    4.0s finished\n"
     ]
    }
   ],
   "source": [
    "from sklearn.linear_model import LogisticRegression\n",
    "\n",
    "logistic = LogisticRegression(max_iter=100,verbose=1, C=60)\n",
    "\n",
    "train_preds = logistic.fit(X_train, y_train).predict(X_train)\n",
    "test_preds = logistic.predict(X_test)\n",
    "\n",
    "print('Train acc: {0}'.format(accuracy_score(y_train, train_preds)))\n",
    "print('Test acc: {0}'.format(accuracy_score(y_test, test_preds)))\n"
   ]
  },
  {
   "attachments": {},
   "cell_type": "markdown",
   "metadata": {},
   "source": [
    "# Creating Job Recommendations \n",
    "Recommends 2 job position alternatives given a job requirement. By obtaining probability of class predictions, and picking the top N predictions, other than true label, N closest recommendations can be got"
   ]
  },
  {
   "cell_type": "code",
   "execution_count": 49,
   "metadata": {},
   "outputs": [],
   "source": [
    "preds_data = {'Current Position Requirments': [], 'Current Position': [], 'Alternative 1': [], 'Alternative 2': []}\n",
    "y_preds_proba = logistic.predict_proba(X_test)\n",
    "\n",
    "counter = 0 \n",
    "for idx, (pred_row, true_job_position) in enumerate(zip(y_preds_proba, y_test)):\n",
    "    class_preds = np.argsort(pred_row)\n",
    "    # delete true class\n",
    "    for i in [-1, -2]:\n",
    "        if class_preds[i] == true_job_position:\n",
    "            class_preds=np.delete(class_preds,i)\n",
    "    # getting other 2 highest job predictions         \n",
    "    top_classes = class_preds[-2:]\n",
    "    # obtaining class name string from int label \n",
    "    class_names = enc.inverse_transform(top_classes)\n",
    "    true_job_position_name = enc.inverse_transform([true_job_position])\n",
    "    # saving to dict\n",
    "    preds_data['Current Position Requirments'].append(X_test_words.iloc[idx])\n",
    "    preds_data['Current Position'].append(true_job_position_name[0])\n",
    "    preds_data['Alternative 1'].append(class_names[1])\n",
    "    preds_data['Alternative 2'].append(class_names[0])\n",
    "\n",
    "    \n",
    "    counter +=1"
   ]
  },
  {
   "cell_type": "code",
   "execution_count": 50,
   "metadata": {},
   "outputs": [
    {
     "data": {
      "text/html": [
       "<div>\n",
       "<style scoped>\n",
       "    .dataframe tbody tr th:only-of-type {\n",
       "        vertical-align: middle;\n",
       "    }\n",
       "\n",
       "    .dataframe tbody tr th {\n",
       "        vertical-align: top;\n",
       "    }\n",
       "\n",
       "    .dataframe thead th {\n",
       "        text-align: right;\n",
       "    }\n",
       "</style>\n",
       "<table border=\"1\" class=\"dataframe\">\n",
       "  <thead>\n",
       "    <tr style=\"text-align: right;\">\n",
       "      <th></th>\n",
       "      <th>Current Position Requirments</th>\n",
       "      <th>Current Position</th>\n",
       "      <th>Alternative 1</th>\n",
       "      <th>Alternative 2</th>\n",
       "    </tr>\n",
       "  </thead>\n",
       "  <tbody>\n",
       "    <tr>\n",
       "      <th>0</th>\n",
       "      <td>Pria, usia maks. 35 tahun Pendidikan Min. SMA/...</td>\n",
       "      <td>Merchandiser Staff</td>\n",
       "      <td>SALES AGENT / SPG / SPB</td>\n",
       "      <td>Posisi kasir untuk Jakarta</td>\n",
       "    </tr>\n",
       "    <tr>\n",
       "      <th>1</th>\n",
       "      <td>Pendidikan SMK/SMA, D3, S1 Penempatan Sebakis ...</td>\n",
       "      <td>Admin Produksi</td>\n",
       "      <td>Desk Collection Recovery</td>\n",
       "      <td>Sales</td>\n",
       "    </tr>\n",
       "    <tr>\n",
       "      <th>2</th>\n",
       "      <td>Pria / Wanita Minimal Pendidikan SMA/SMK/Seder...</td>\n",
       "      <td>Sales Kartu Kredit Perbankan</td>\n",
       "      <td>Field Activator Reguler</td>\n",
       "      <td>SALES AGENT / SPG / SPB</td>\n",
       "    </tr>\n",
       "    <tr>\n",
       "      <th>3</th>\n",
       "      <td>Pendidikan SMA/SLTA  Pengalaman minimal 1 tahu...</td>\n",
       "      <td>Anggota Security</td>\n",
       "      <td>Barista</td>\n",
       "      <td>Posisi kasir untuk Jakarta</td>\n",
       "    </tr>\n",
       "    <tr>\n",
       "      <th>4</th>\n",
       "      <td>Wanita, minimal lulusan SMA/K Boleh Fresh Grad...</td>\n",
       "      <td>Customer Service</td>\n",
       "      <td>Admin Sosial media</td>\n",
       "      <td>SALES AGENT / SPG / SPB</td>\n",
       "    </tr>\n",
       "    <tr>\n",
       "      <th>...</th>\n",
       "      <td>...</td>\n",
       "      <td>...</td>\n",
       "      <td>...</td>\n",
       "      <td>...</td>\n",
       "    </tr>\n",
       "    <tr>\n",
       "      <th>89</th>\n",
       "      <td>Pria / Wanita Pendidikan minimal SMA / Sederaj...</td>\n",
       "      <td>Brand Content Creator</td>\n",
       "      <td>CSR</td>\n",
       "      <td>Ambassador SOKO FInancial Club</td>\n",
       "    </tr>\n",
       "    <tr>\n",
       "      <th>90</th>\n",
       "      <td>SMA/SMU/SMK (Diwajibkan) Pengalaman: Asisten A...</td>\n",
       "      <td>Asisten Apoteker</td>\n",
       "      <td>Marketing Sales</td>\n",
       "      <td>Ambassador SOKO FInancial Club</td>\n",
       "    </tr>\n",
       "    <tr>\n",
       "      <th>91</th>\n",
       "      <td>Experience: Sales: 1 year (Preferred)</td>\n",
       "      <td>Dropshipper Elektronik</td>\n",
       "      <td>Beautician</td>\n",
       "      <td>COOK</td>\n",
       "    </tr>\n",
       "    <tr>\n",
       "      <th>92</th>\n",
       "      <td>Memiliki pengalaman minimal 1 tahun sebagai dr...</td>\n",
       "      <td>Driver</td>\n",
       "      <td>Marketing Sales</td>\n",
       "      <td>Host Livestream Specialist</td>\n",
       "    </tr>\n",
       "    <tr>\n",
       "      <th>93</th>\n",
       "      <td>Laki-laki/Perempuan, usia Maks. 35th Pendidika...</td>\n",
       "      <td>SALES TAKING ORDER area JAKARTA BARAT</td>\n",
       "      <td>SALES AGENT / SPG / SPB</td>\n",
       "      <td>CUSTOMER RELATION</td>\n",
       "    </tr>\n",
       "  </tbody>\n",
       "</table>\n",
       "<p>94 rows × 4 columns</p>\n",
       "</div>"
      ],
      "text/plain": [
       "                         Current Position Requirments   \n",
       "0   Pria, usia maks. 35 tahun Pendidikan Min. SMA/...  \\\n",
       "1   Pendidikan SMK/SMA, D3, S1 Penempatan Sebakis ...   \n",
       "2   Pria / Wanita Minimal Pendidikan SMA/SMK/Seder...   \n",
       "3   Pendidikan SMA/SLTA  Pengalaman minimal 1 tahu...   \n",
       "4   Wanita, minimal lulusan SMA/K Boleh Fresh Grad...   \n",
       "..                                                ...   \n",
       "89  Pria / Wanita Pendidikan minimal SMA / Sederaj...   \n",
       "90  SMA/SMU/SMK (Diwajibkan) Pengalaman: Asisten A...   \n",
       "91              Experience: Sales: 1 year (Preferred)   \n",
       "92  Memiliki pengalaman minimal 1 tahun sebagai dr...   \n",
       "93  Laki-laki/Perempuan, usia Maks. 35th Pendidika...   \n",
       "\n",
       "                         Current Position             Alternative 1   \n",
       "0                      Merchandiser Staff   SALES AGENT / SPG / SPB  \\\n",
       "1                          Admin Produksi  Desk Collection Recovery   \n",
       "2            Sales Kartu Kredit Perbankan   Field Activator Reguler   \n",
       "3                        Anggota Security                  Barista    \n",
       "4                       Customer Service         Admin Sosial media   \n",
       "..                                    ...                       ...   \n",
       "89                  Brand Content Creator                      CSR    \n",
       "90                       Asisten Apoteker          Marketing Sales    \n",
       "91                Dropshipper Elektronik                 Beautician   \n",
       "92                                 Driver          Marketing Sales    \n",
       "93  SALES TAKING ORDER area JAKARTA BARAT   SALES AGENT / SPG / SPB   \n",
       "\n",
       "                     Alternative 2  \n",
       "0       Posisi kasir untuk Jakarta  \n",
       "1                            Sales  \n",
       "2          SALES AGENT / SPG / SPB  \n",
       "3       Posisi kasir untuk Jakarta  \n",
       "4          SALES AGENT / SPG / SPB  \n",
       "..                             ...  \n",
       "89  Ambassador SOKO FInancial Club  \n",
       "90  Ambassador SOKO FInancial Club  \n",
       "91                            COOK  \n",
       "92      Host Livestream Specialist  \n",
       "93              CUSTOMER RELATION   \n",
       "\n",
       "[94 rows x 4 columns]"
      ]
     },
     "execution_count": 50,
     "metadata": {},
     "output_type": "execute_result"
    }
   ],
   "source": [
    "preds_df = pd.DataFrame.from_dict(preds_data)\n",
    "preds_df.to_csv('Recommendations.csv', index=False)\n",
    "preds_df\n"
   ]
  }
 ],
 "metadata": {
  "kernelspec": {
   "display_name": "Python 3",
   "language": "python",
   "name": "python3"
  },
  "language_info": {
   "codemirror_mode": {
    "name": "ipython",
    "version": 3
   },
   "file_extension": ".py",
   "mimetype": "text/x-python",
   "name": "python",
   "nbconvert_exporter": "python",
   "pygments_lexer": "ipython3",
   "version": "3.11.3"
  }
 },
 "nbformat": 4,
 "nbformat_minor": 1
}
