{
 "cells": [
  {
   "cell_type": "code",
   "execution_count": 2,
   "metadata": {},
   "outputs": [],
   "source": [
    "# Impor library yang diperlukan\n",
    "import pandas as pd"
   ]
  },
  {
   "cell_type": "code",
   "execution_count": 3,
   "metadata": {},
   "outputs": [],
   "source": [
    "# Load dataset pekerjaan\n",
    "dataset_pekerjaan = pd.read_excel(r\"C:\\ikhsan\\UNAIR\\MBKM\\Bangkit\\1. Capstone\\linkedinwebscraping\\JobData.xlsx\")"
   ]
  },
  {
   "cell_type": "code",
   "execution_count": 4,
   "metadata": {},
   "outputs": [],
   "source": [
    "# Fungsi untuk memberikan rekomendasi pekerjaan berdasarkan preferensi pengguna\n",
    "def berikan_rekomendasi_pekerjaan(pilihan_posisi):\n",
    "    # Filter dataset berdasarkan preferensi pengguna\n",
    "    dataset_filtered = dataset_pekerjaan[\n",
    "        dataset_pekerjaan['Title'].str.contains('|'.join(pilihan_posisi), case=True)\n",
    "    ]\n",
    "    \n",
    "    # Mengembalikan rekomendasi pekerjaan\n",
    "    rekomendasi = dataset_filtered[['Company', 'Title', 'Location']].to_dict(orient='records')\n",
    "    return rekomendasi"
   ]
  },
  {
   "cell_type": "code",
   "execution_count": 5,
   "metadata": {},
   "outputs": [
    {
     "name": "stdout",
     "output_type": "stream",
     "text": [
      "Rekomendasi Pekerjaan:\n",
      "Company: Kalbe Nutritionals (PT Sanghiang Perkasa), \n",
      "Position: IT Web Developer, \n",
      "Location: Jakarta, Jakarta, Indonesia\n",
      "\n",
      "Company: Astra Credit Companies (ACC), \n",
      "Position: IT System Analyst, \n",
      "Location: Sleman, Yogyakarta, Indonesia\n",
      "\n",
      "Company: Kalbe Nutritionals (PT Sanghiang Perkasa), \n",
      "Position: IT Web Developer, \n",
      "Location: Jakarta, Jakarta, Indonesia\n",
      "\n",
      "Company: Kalbe Nutritionals (PT Sanghiang Perkasa), \n",
      "Position: IT Web Developer, \n",
      "Location: Jakarta, Jakarta, Indonesia\n",
      "\n",
      "Company: PT Alam Sutera Realty Tbk., \n",
      "Position: IT Support, \n",
      "Location: Tangerang, Banten, Indonesia\n",
      "\n",
      "Company: PT BFI Finance Indonesia, Tbk, \n",
      "Position: IT Helpdesk, \n",
      "Location: Balikpapan, East Kalimantan, Indonesia\n",
      "\n",
      "Company: Astra Credit Companies (ACC), \n",
      "Position: IT System Analyst, \n",
      "Location: Sleman, Yogyakarta, Indonesia\n",
      "\n",
      "Company: Rukita, \n",
      "Position: IT Technician, \n",
      "Location: Jakarta Metropolitan Area\n",
      "\n",
      "Company: Kalbe Nutritionals (PT Sanghiang Perkasa), \n",
      "Position: IT Web Developer, \n",
      "Location: Jakarta, Jakarta, Indonesia\n",
      "\n",
      "Company: Shopee, \n",
      "Position: IT Helpdesk - Shopee, \n",
      "Location: Jakarta, Indonesia\n",
      "\n"
     ]
    }
   ],
   "source": [
    "# Contoh penggunaan\n",
    "pilihan_posisi = ['IT', 'Python']\n",
    "\n",
    "rekomendasi = berikan_rekomendasi_pekerjaan(pilihan_posisi)\n",
    "\n",
    "print(\"Rekomendasi Pekerjaan:\")\n",
    "for pekerjaan in rekomendasi:\n",
    "    print(f\"Company: {pekerjaan['Company']}, \\nPosition: {pekerjaan['Title']}, \\nLocation: {pekerjaan['Location']}\\n\")"
   ]
  }
 ],
 "metadata": {
  "kernelspec": {
   "display_name": "Python 3",
   "language": "python",
   "name": "python3"
  },
  "language_info": {
   "codemirror_mode": {
    "name": "ipython",
    "version": 3
   },
   "file_extension": ".py",
   "mimetype": "text/x-python",
   "name": "python",
   "nbconvert_exporter": "python",
   "pygments_lexer": "ipython3",
   "version": "3.11.3"
  },
  "orig_nbformat": 4
 },
 "nbformat": 4,
 "nbformat_minor": 2
}
