{
 "cells": [
  {
   "cell_type": "code",
   "execution_count": 3,
   "metadata": {},
   "outputs": [],
   "source": [
    "# Impor library yang diperlukan\n",
    "import pandas as pd\n",
    "import csv"
   ]
  },
  {
   "cell_type": "code",
   "execution_count": 4,
   "metadata": {},
   "outputs": [],
   "source": [
    "# Load dataset pekerjaan\n",
    "# dataset_pekerjaan = pd.read_excel(r\"C:\\ikhsan\\UNAIR\\MBKM\\Bangkit\\1. Capstone\\linkedinwebscraping\\JobData.xlsx\")\n",
    "dataset_pekerjaan = pd.read_csv(r\"C:\\ikhsan\\UNAIR\\MBKM\\Bangkit\\KerjaKuy\\Web-Scraping\\LinkedIn\\Output\\ddbb_Part Time_Indonesia_.csv\")"
   ]
  },
  {
   "cell_type": "code",
   "execution_count": 5,
   "metadata": {},
   "outputs": [],
   "source": [
    "# Fungsi untuk memberikan rekomendasi pekerjaan berdasarkan preferensi pengguna\n",
    "def berikan_rekomendasi_pekerjaan(pilihan_posisi):\n",
    "    # Filter dataset berdasarkan preferensi pengguna\n",
    "    dataset_filtered = dataset_pekerjaan[\n",
    "        dataset_pekerjaan['Title'].str.contains('|'.join(pilihan_posisi), case=True)\n",
    "    ]\n",
    "    \n",
    "    # Mengembalikan rekomendasi pekerjaan\n",
    "    rekomendasi = dataset_filtered[['Company', 'Title', 'Location']].to_dict(orient='records')\n",
    "    return rekomendasi"
   ]
  },
  {
   "cell_type": "code",
   "execution_count": 8,
   "metadata": {},
   "outputs": [
    {
     "name": "stdout",
     "output_type": "stream",
     "text": [
      "Rekomendasi Pekerjaan: 5\n",
      "Company: TalentKompass Deutschland, \n",
      "Position: Junior Python Developer (Remote Internship – IT), \n",
      "Location: Ubud, Bali, Indonesia\n",
      "\n",
      "Company: TalentKompass Deutschland, \n",
      "Position: Junior Cyber Security Specialist (Remote IT Internship – Cybersecurity), \n",
      "Location: Ubud, Bali, Indonesia\n",
      "\n",
      "Company: Hacktiv8 Indonesia, \n",
      "Position: Python Instructor (Part-time), \n",
      "Location: Jakarta, Jakarta, Indonesia\n",
      "\n",
      "Company: Prudential Indonesia (PT Prudential Life Assurance), \n",
      "Position: M - IT Governance & Compliance, \n",
      "Location: Jakarta, Jakarta, Indonesia\n",
      "\n",
      "Company: Prudential Indonesia (PT Prudential Life Assurance), \n",
      "Position: M - IT Governance & Compliance, \n",
      "Location: Jakarta, Jakarta, Indonesia\n",
      "\n"
     ]
    }
   ],
   "source": [
    "# Contoh penggunaan\n",
    "pilihan_posisi = ['IT ', 'Python']\n",
    "\n",
    "rekomendasi = berikan_rekomendasi_pekerjaan(pilihan_posisi)\n",
    "\n",
    "print(\"Rekomendasi Pekerjaan:\", len(rekomendasi))\n",
    "for pekerjaan in rekomendasi:\n",
    "    print(f\"Company: {pekerjaan['Company']}, \\nPosition: {pekerjaan['Title']}, \\nLocation: {pekerjaan['Location']}\\n\")"
   ]
  }
 ],
 "metadata": {
  "kernelspec": {
   "display_name": "Python 3",
   "language": "python",
   "name": "python3"
  },
  "language_info": {
   "codemirror_mode": {
    "name": "ipython",
    "version": 3
   },
   "file_extension": ".py",
   "mimetype": "text/x-python",
   "name": "python",
   "nbconvert_exporter": "python",
   "pygments_lexer": "ipython3",
   "version": "3.11.3"
  },
  "orig_nbformat": 4
 },
 "nbformat": 4,
 "nbformat_minor": 2
}
