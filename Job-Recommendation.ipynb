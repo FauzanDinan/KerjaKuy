{
 "cells": [
  {
   "cell_type": "code",
   "execution_count": 3,
   "metadata": {},
   "outputs": [],
   "source": [
    "# Impor library yang diperlukan\n",
    "import pandas as pd\n",
    "import csv"
   ]
  },
  {
   "cell_type": "code",
   "execution_count": 4,
   "metadata": {},
   "outputs": [],
   "source": [
    "# Load dataset pekerjaan\n",
    "# dataset_pekerjaan = pd.read_excel(r\"C:\\ikhsan\\UNAIR\\MBKM\\Bangkit\\1. Capstone\\linkedinwebscraping\\JobData.xlsx\")\n",
    "dataset_pekerjaan = pd.read_csv(r\"C:\\ikhsan\\UNAIR\\MBKM\\Bangkit\\KerjaKuy\\Web-Scraping\\LinkedIn\\Output\\ddbb_Part Time_Indonesia_.csv\")\n",
    "# dataset_pekerjaan.sample(6)"
   ]
  },
  {
   "cell_type": "code",
   "execution_count": 5,
   "metadata": {},
   "outputs": [],
   "source": [
    "# Fungsi untuk memberikan rekomendasi pekerjaan berdasarkan preferensi pengguna\n",
    "def berikan_rekomendasi_pekerjaan(pilihan_posisi):\n",
    "    # Filter dataset berdasarkan preferensi pengguna\n",
    "    dataset_filtered = dataset_pekerjaan[\n",
    "        dataset_pekerjaan['Title'].str.contains('|'.join(pilihan_posisi), case=False)\n",
    "    ]\n",
    "    \n",
    "    # Mengembalikan rekomendasi pekerjaan\n",
    "    rekomendasi = dataset_filtered[['Company', 'Title', 'Location']].to_dict(orient='records')\n",
    "    return rekomendasi"
   ]
  },
  {
   "cell_type": "code",
   "execution_count": 6,
   "metadata": {},
   "outputs": [],
   "source": [
    "# Fungsi untuk memberikan rekomendasi pekerjaan berdasarkan preferensi pengguna\n",
    "def lokasi_rekomendasi_pekerjaan(pilihan_lokasi):\n",
    "    # Filter dataset berdasarkan preferensi pengguna\n",
    "    dataset_filtered = dataset_pekerjaan[\n",
    "        dataset_pekerjaan['Location'].str.contains('|'.join(pilihan_lokasi), case=False)\n",
    "    ]\n",
    "    \n",
    "    # Mengembalikan rekomendasi pekerjaan\n",
    "    rekomendasi = dataset_filtered[['Company', 'Title', 'Location']].to_dict(orient='records')\n",
    "    return rekomendasi"
   ]
  },
  {
   "cell_type": "code",
   "execution_count": 7,
   "metadata": {},
   "outputs": [
    {
     "name": "stdout",
     "output_type": "stream",
     "text": [
      "Rekomendasi Pekerjaan: 1\n",
      "Company: Starco, \n",
      "Position: Host Live Streamer (Freelance/Part-time/Internship), \n",
      "Location: Tangerang, Banten, Indonesia\n",
      "\n"
     ]
    }
   ],
   "source": [
    "# Contoh penggunaan\n",
    "pilihan_posisi = ['freelance']\n",
    "pilihan_lokasi = ['jakarta']\n",
    "\n",
    "rekomendasi = berikan_rekomendasi_pekerjaan(pilihan_posisi)\n",
    "# rekomendasi = lokasi_rekomendasi_pekerjaan(pilihan_lokasi)\n",
    "\n",
    "print(\"Rekomendasi Pekerjaan:\", len(rekomendasi))\n",
    "for pekerjaan in rekomendasi:\n",
    "    print(f\"Company: {pekerjaan['Company']}, \\nPosition: {pekerjaan['Title']}, \\nLocation: {pekerjaan['Location']}\\n\")"
   ]
  }
 ],
 "metadata": {
  "kernelspec": {
   "display_name": "Python 3",
   "language": "python",
   "name": "python3"
  },
  "language_info": {
   "codemirror_mode": {
    "name": "ipython",
    "version": 3
   },
   "file_extension": ".py",
   "mimetype": "text/x-python",
   "name": "python",
   "nbconvert_exporter": "python",
   "pygments_lexer": "ipython3",
   "version": "3.11.3"
  },
  "orig_nbformat": 4
 },
 "nbformat": 4,
 "nbformat_minor": 2
}
