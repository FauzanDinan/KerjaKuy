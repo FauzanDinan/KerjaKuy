{
 "cells": [
  {
   "cell_type": "code",
   "execution_count": 1,
   "id": "a9646369",
   "metadata": {},
   "outputs": [],
   "source": [
    "# Importing Selenium and all related modules\n",
    "from selenium import webdriver\n",
    "from selenium.webdriver.common.by import By\n",
    "from selenium.webdriver.chrome.options import Options\n",
    "\n",
    "#Importing the libraries to get the webdriver\n",
    "import requests\n",
    "import wget\n",
    "import zipfile\n",
    "import os\n",
    "\n",
    "# Importing other required libraries\n",
    "import time\n",
    "import pandas as pd\n",
    "from datetime import date, timedelta\n",
    "import random\n",
    "from datetime import date, timedelta\n"
   ]
  },
  {
   "attachments": {},
   "cell_type": "markdown",
   "id": "dea9eff4",
   "metadata": {},
   "source": [
    "# Getting the webdriver\n",
    "To have always the latest version of the Chrome webdriver, we can directly check and download the latets version available. "
   ]
  },
  {
   "cell_type": "code",
   "execution_count": null,
   "id": "c8cdbbc0",
   "metadata": {},
   "outputs": [],
   "source": [
    "# # get the latest chrome driver version number\n",
    "# url = 'https://chromedriver.storage.googleapis.com/LATEST_RELEASE'\n",
    "# response = requests.get(url)\n",
    "# version_number = response.text\n",
    "\n",
    "# # build the donwload url\n",
    "# download_url = \"https://chromedriver.storage.googleapis.com/\" + version_number +\"/chromedriver_mac64.zip\"\n",
    "\n",
    "# # download the zip file using the url built above\n",
    "# latest_driver_zip = wget.download(download_url,'chromedriver.zip')\n",
    "\n",
    "# # extract the zip file\n",
    "# with zipfile.ZipFile(latest_driver_zip, 'r') as zip_ref:\n",
    "#     zip_ref.extractall(\"../ChromeDriver_Path\") # you can specify the destination folder path here\n",
    "# # delete the zip file downloaded above\n",
    "# os.remove(latest_driver_zip)"
   ]
  },
  {
   "attachments": {},
   "cell_type": "markdown",
   "id": "3dd52355",
   "metadata": {},
   "source": [
    "# Creating the webdriver instance\n",
    "The Chrome webdriver instance is generated."
   ]
  },
  {
   "cell_type": "code",
   "execution_count": 2,
   "id": "11292b3c",
   "metadata": {},
   "outputs": [
    {
     "name": "stderr",
     "output_type": "stream",
     "text": [
      "C:\\Users\\INES\\AppData\\Local\\Temp\\ipykernel_6524\\1025969745.py:7: DeprecationWarning: executable_path has been deprecated, please pass in a Service object\n",
      "  driver = webdriver.Chrome(r\"C:\\ikhsan\\UNAIR\\MBKM\\Bangkit\\1. Capstone\\chromedriver.exe\", chrome_options=options)\n",
      "C:\\Users\\INES\\AppData\\Local\\Temp\\ipykernel_6524\\1025969745.py:7: DeprecationWarning: use options instead of chrome_options\n",
      "  driver = webdriver.Chrome(r\"C:\\ikhsan\\UNAIR\\MBKM\\Bangkit\\1. Capstone\\chromedriver.exe\", chrome_options=options)\n"
     ]
    }
   ],
   "source": [
    "# __________________Defining the Chrome Driver Instance\n",
    "# Creating a webdriver instance\n",
    "options = Options()\n",
    "\n",
    "# options.add_argument('--headless') -> You can activate this option if you want to watch the scraping process.\n",
    "options.add_argument('--disable-gpu')  # Last I checked this was necessary.\n",
    "driver = webdriver.Chrome(r\"C:\\ikhsan\\UNAIR\\MBKM\\Bangkit\\1. Capstone\\chromedriver.exe\", chrome_options=options)"
   ]
  },
  {
   "attachments": {},
   "cell_type": "markdown",
   "id": "4d5a7591",
   "metadata": {},
   "source": [
    "# Defining job and country/location and loading the driver"
   ]
  },
  {
   "cell_type": "code",
   "execution_count": 3,
   "id": "34863b12",
   "metadata": {},
   "outputs": [],
   "source": [
    "job_name = \"\"\n",
    "country_name = \"Indonesia\"\n",
    "\n",
    "#We create the corresponding job name in URL\n",
    "job_url =\"\";\n",
    "for item in job_name.split(\" \"):\n",
    "    if item != job_name.split(\" \")[-1]:\n",
    "        job_url = job_url + item + \"%20\"\n",
    "    else:\n",
    "        job_url = job_url + item\n",
    "        \n",
    "#We create the  corresponding country name in URL\n",
    "country_url =\"\";\n",
    "for item in country_name.split(\" \"):\n",
    "    if item != country_name.split(\" \")[-1]:\n",
    "        country_url = country_url + item + \"%20\"\n",
    "    else:\n",
    "        country_url = country_url + item\n",
    "\n",
    "url = \"https://www.linkedin.com/jobs/search?keywords={0}&location={1}&geoId=103644278&trk=public_jobs_jobs-search-bar_search-submit&position=1&pageNum=0\".format(job_url,country_url)\n",
    "\n",
    "# Opening the url we have just defined in our browser\n",
    "driver.get(url)"
   ]
  },
  {
   "attachments": {},
   "cell_type": "markdown",
   "id": "e32070bf",
   "metadata": {},
   "source": [
    "# Detecting elements in our Browser"
   ]
  },
  {
   "attachments": {},
   "cell_type": "markdown",
   "id": "268757e0",
   "metadata": {},
   "source": [
    "## Knowing how many jobs results are there"
   ]
  },
  {
   "cell_type": "code",
   "execution_count": 4,
   "id": "ccd8fb63",
   "metadata": {},
   "outputs": [],
   "source": [
    "#We find how many jobs are offered.\n",
    "jobs_num = driver.find_element(By.CSS_SELECTOR,\"h1>span\").get_attribute(\"innerText\")\n",
    "if ',' in jobs_num and (jobs_num := jobs_num.replace(',', '')).isdigit():\n",
    "    jobs_num = int(jobs_num)\n",
    "\n",
    "#Here I choose manually a number of jobs, so it wont take that long:\n",
    "jobs_num = 100;"
   ]
  },
  {
   "attachments": {},
   "cell_type": "markdown",
   "id": "7ce3dcc2",
   "metadata": {},
   "source": [
    "## The loop is initialized."
   ]
  },
  {
   "cell_type": "code",
   "execution_count": 5,
   "id": "5c1467c8",
   "metadata": {},
   "outputs": [
    {
     "name": "stdout",
     "output_type": "stream",
     "text": [
      "Current at:  52 Percentage at:  103.921568627451 % %\r"
     ]
    }
   ],
   "source": [
    "#We create a while loop to browse all jobs. \n",
    "i = 2\n",
    "while i <= int(jobs_num/2)+1:\n",
    "    #We keep scrollind down to the end of the view.\n",
    "    driver.execute_script(\"window.scrollTo(0, document.body.scrollHeight);\")\n",
    "    i = i + 1\n",
    "    print(\"Current at: \", i, \"Percentage at: \", ((i+1)/(int(jobs_num/2)+1))*100, \"%\",end=\"\\r\")\n",
    "    try:\n",
    "        #We try to click on the load more results buttons in case it is already displayed.\n",
    "        infinite_scroller_button = driver.find_element(By.XPATH, '//*[@id=\"main-content\"]/section[2]/button')\n",
    "        infinite_scroller_button.click()\n",
    "        time.sleep(1)\n",
    "    except:\n",
    "        #If there is no button, there will be an error, so we keep scrolling down.\n",
    "        time.sleep(0.1)\n",
    "        pass"
   ]
  },
  {
   "attachments": {},
   "cell_type": "markdown",
   "id": "10401de1",
   "metadata": {},
   "source": [
    "# Loading Basic Data"
   ]
  },
  {
   "cell_type": "code",
   "execution_count": 6,
   "id": "de6c0b3e",
   "metadata": {},
   "outputs": [],
   "source": [
    "#We get a list containing all jobs that we have found.\n",
    "job_lists = driver.find_element(By.CLASS_NAME,\"jobs-search__results-list\")\n",
    "jobs = job_lists.find_elements(By.TAG_NAME,\"li\") # return a list\n",
    "\n",
    "#We declare void list to keep track of all obtaind data.\n",
    "job_title_list = []\n",
    "company_name_list = []\n",
    "location_list = []\n",
    "date_list = []\n",
    "job_link_list = []\n",
    "\n",
    "#We loof over every job and obtain all the wanted info.\n",
    "for job in jobs:\n",
    "    #job_title\n",
    "    job_title = job.find_element(By.CSS_SELECTOR,\"h3\").get_attribute(\"innerText\")\n",
    "    job_title_list.append(job_title)\n",
    "    \n",
    "    #company_name\n",
    "    company_name = job.find_element(By.CSS_SELECTOR,\"h4\").get_attribute(\"innerText\")\n",
    "    company_name_list.append(company_name)\n",
    "    \n",
    "    #location\n",
    "    location = job.find_element(By.CSS_SELECTOR,\"div>div>span\").get_attribute(\"innerText\")\n",
    "    location_list.append(location)\n",
    "    \n",
    "    #date\n",
    "    date = job.find_element(By.CSS_SELECTOR,\"div>div>time\").get_attribute(\"datetime\")\n",
    "    date_list.append(date)\n",
    "    \n",
    "    #job_link\n",
    "    job_link = job.find_element(By.CSS_SELECTOR,\"a\").get_attribute(\"href\")\n",
    "    job_link_list.append(job_link)\n"
   ]
  },
  {
   "attachments": {},
   "cell_type": "markdown",
   "id": "42c7cd27",
   "metadata": {},
   "source": [
    "# Loading More Data"
   ]
  },
  {
   "cell_type": "code",
   "execution_count": 7,
   "id": "f2f36b41",
   "metadata": {},
   "outputs": [
    {
     "name": "stdout",
     "output_type": "stream",
     "text": [
      "Current at:  174 Percentage at:  100.0 %7142857143 %%\r"
     ]
    }
   ],
   "source": [
    "jd = [] #job_description\n",
    "seniority = []\n",
    "emp_type = []\n",
    "job_func = []\n",
    "job_ind = []\n",
    "for item in range(len(jobs)):\n",
    "    job_func0=[]\n",
    "    industries0=[]\n",
    "    # clicking job to view job details\n",
    "    \n",
    "    #__________________________________________________________________________ JOB Link\n",
    "    \n",
    "    try: \n",
    "        job_click_path = f'/html/body/div/div/main/section/ul/li[{item+1}]'\n",
    "        job_click = job.find_element(By.XPATH,job_click_path).click()\n",
    "    except:\n",
    "        pass\n",
    "    \n",
    "    #Wait for a bit for the website to charge (again with a random behavior)\n",
    "    time.sleep(1+random.random())\n",
    "    \n",
    "    #__________________________________________________________________________ JOB Description\n",
    "    jd_path = '/html/body/div/div/section/div/div/section/div/div/section/div'\n",
    "    try:\n",
    "        jd0 = job.find_element(By.XPATH,jd_path).get_attribute('innerText')\n",
    "        jd.append(jd0)\n",
    "    except:\n",
    "        jd.append(None)\n",
    "        pass\n",
    "    \n",
    "    #__________________________________________________________________________ JOB Seniority\n",
    "    seniority_path='/html/body/div/div/section/div/div/section/div/ul/li[1]/span'\n",
    "    \n",
    "    try:\n",
    "        seniority0 = job.find_element(By.XPATH,seniority_path).get_attribute('innerText')\n",
    "        seniority.append(seniority0)\n",
    "    except:\n",
    "        seniority.append(None)\n",
    "        pass\n",
    "\n",
    "    #__________________________________________________________________________ JOB Time\n",
    "    emp_type_path='/html/body/div/div/section/div/div/section/div/ul/li[2]/span'\n",
    "    \n",
    "    try:\n",
    "        emp_type0 = job.find_element(By.XPATH,emp_type_path).get_attribute('innerText')\n",
    "        emp_type.append(emp_type0)\n",
    "    except:\n",
    "        emp_type.append(None)\n",
    "        pass\n",
    "    \n",
    "    #__________________________________________________________________________ JOB Function\n",
    "    function_path='/html/body/div/div/section/div/div/section/div/ul/li[3]/span'\n",
    "    \n",
    "    try:\n",
    "        func0 = job.find_element(By.XPATH,function_path).get_attribute('innerText')\n",
    "        job_func.append(func0)\n",
    "    except:\n",
    "        job_func.append(None)\n",
    "        pass\n",
    "\n",
    "    #__________________________________________________________________________ JOB Industry\n",
    "    industry_path='/html/body/div/div/section/div/div/section/div/ul/li[4]/span'\n",
    "    \n",
    "    try:\n",
    "        ind0 = job.find_element(By.XPATH,industry_path).get_attribute('innerText')\n",
    "        job_ind.append(ind0)\n",
    "    except:\n",
    "        job_ind.append(None)\n",
    "        pass\n",
    "    \n",
    "    print(\"Current at: \", item, \"Percentage at: \", (item+1)/len(jobs)*100, \"%\",end=\"\\r\")"
   ]
  },
  {
   "cell_type": "code",
   "execution_count": 8,
   "id": "51709464",
   "metadata": {},
   "outputs": [
    {
     "data": {
      "text/html": [
       "<div>\n",
       "<style scoped>\n",
       "    .dataframe tbody tr th:only-of-type {\n",
       "        vertical-align: middle;\n",
       "    }\n",
       "\n",
       "    .dataframe tbody tr th {\n",
       "        vertical-align: top;\n",
       "    }\n",
       "\n",
       "    .dataframe thead th {\n",
       "        text-align: right;\n",
       "    }\n",
       "</style>\n",
       "<table border=\"1\" class=\"dataframe\">\n",
       "  <thead>\n",
       "    <tr style=\"text-align: right;\">\n",
       "      <th></th>\n",
       "      <th>Date</th>\n",
       "      <th>Company</th>\n",
       "      <th>Title</th>\n",
       "      <th>Location</th>\n",
       "      <th>Description</th>\n",
       "      <th>Level</th>\n",
       "      <th>Type</th>\n",
       "      <th>Function</th>\n",
       "      <th>Industry</th>\n",
       "      <th>Link</th>\n",
       "    </tr>\n",
       "  </thead>\n",
       "  <tbody>\n",
       "    <tr>\n",
       "      <th>170</th>\n",
       "      <td>2023-04-14</td>\n",
       "      <td>PT GITS Indonesia</td>\n",
       "      <td>Sales Manager</td>\n",
       "      <td>Jakarta, Jakarta, Indonesia</td>\n",
       "      <td>None</td>\n",
       "      <td>None</td>\n",
       "      <td>None</td>\n",
       "      <td>None</td>\n",
       "      <td>None</td>\n",
       "      <td>https://id.linkedin.com/jobs/view/risk-managem...</td>\n",
       "    </tr>\n",
       "    <tr>\n",
       "      <th>171</th>\n",
       "      <td>2023-04-23</td>\n",
       "      <td>Shopee</td>\n",
       "      <td>Category Admin - Business Development (Contrac...</td>\n",
       "      <td>Jakarta, Indonesia</td>\n",
       "      <td>None</td>\n",
       "      <td>None</td>\n",
       "      <td>None</td>\n",
       "      <td>None</td>\n",
       "      <td>None</td>\n",
       "      <td>https://id.linkedin.com/jobs/view/risk-managem...</td>\n",
       "    </tr>\n",
       "    <tr>\n",
       "      <th>172</th>\n",
       "      <td>2023-05-13</td>\n",
       "      <td>PT. Aarti Jaya</td>\n",
       "      <td>Akunting Staff</td>\n",
       "      <td>Cimahi, West Java, Indonesia</td>\n",
       "      <td>None</td>\n",
       "      <td>None</td>\n",
       "      <td>None</td>\n",
       "      <td>None</td>\n",
       "      <td>None</td>\n",
       "      <td>https://id.linkedin.com/jobs/view/risk-managem...</td>\n",
       "    </tr>\n",
       "    <tr>\n",
       "      <th>173</th>\n",
       "      <td>2023-05-09</td>\n",
       "      <td>PT. Padi Mulia Jaya</td>\n",
       "      <td>Warehouse Admin</td>\n",
       "      <td>Tangerang Selatan, Banten, Indonesia</td>\n",
       "      <td>None</td>\n",
       "      <td>None</td>\n",
       "      <td>None</td>\n",
       "      <td>None</td>\n",
       "      <td>None</td>\n",
       "      <td>https://id.linkedin.com/jobs/view/risk-managem...</td>\n",
       "    </tr>\n",
       "    <tr>\n",
       "      <th>174</th>\n",
       "      <td>2023-04-29</td>\n",
       "      <td>Asuransi Astra</td>\n",
       "      <td>Risk Management Staff</td>\n",
       "      <td>Jakarta, Jakarta, Indonesia</td>\n",
       "      <td>None</td>\n",
       "      <td>None</td>\n",
       "      <td>None</td>\n",
       "      <td>None</td>\n",
       "      <td>None</td>\n",
       "      <td>https://id.linkedin.com/jobs/view/risk-managem...</td>\n",
       "    </tr>\n",
       "  </tbody>\n",
       "</table>\n",
       "</div>"
      ],
      "text/plain": [
       "           Date              Company   \n",
       "170  2023-04-14    PT GITS Indonesia  \\\n",
       "171  2023-04-23               Shopee   \n",
       "172  2023-05-13       PT. Aarti Jaya   \n",
       "173  2023-05-09  PT. Padi Mulia Jaya   \n",
       "174  2023-04-29       Asuransi Astra   \n",
       "\n",
       "                                                 Title   \n",
       "170                                      Sales Manager  \\\n",
       "171  Category Admin - Business Development (Contrac...   \n",
       "172                                     Akunting Staff   \n",
       "173                                    Warehouse Admin   \n",
       "174                              Risk Management Staff   \n",
       "\n",
       "                                 Location Description Level  Type Function   \n",
       "170           Jakarta, Jakarta, Indonesia        None  None  None     None  \\\n",
       "171                    Jakarta, Indonesia        None  None  None     None   \n",
       "172          Cimahi, West Java, Indonesia        None  None  None     None   \n",
       "173  Tangerang Selatan, Banten, Indonesia        None  None  None     None   \n",
       "174           Jakarta, Jakarta, Indonesia        None  None  None     None   \n",
       "\n",
       "    Industry                                               Link  \n",
       "170     None  https://id.linkedin.com/jobs/view/risk-managem...  \n",
       "171     None  https://id.linkedin.com/jobs/view/risk-managem...  \n",
       "172     None  https://id.linkedin.com/jobs/view/risk-managem...  \n",
       "173     None  https://id.linkedin.com/jobs/view/risk-managem...  \n",
       "174     None  https://id.linkedin.com/jobs/view/risk-managem...  "
      ]
     },
     "execution_count": 8,
     "metadata": {},
     "output_type": "execute_result"
    }
   ],
   "source": [
    "job_data = pd.DataFrame({\n",
    "    'Date': date_list,\n",
    "    'Company': company_name_list,\n",
    "    'Title': job_title_list,\n",
    "    'Location': location_list,\n",
    "    'Description': jd,\n",
    "    'Level': seniority,\n",
    "    'Type': emp_type,\n",
    "    'Function': job_func,\n",
    "    'Industry': job_ind,\n",
    "    'Link': job_link\n",
    "})\n",
    "\n",
    "job_data.tail()"
   ]
  },
  {
   "cell_type": "code",
   "execution_count": 9,
   "id": "e4c231c0",
   "metadata": {},
   "outputs": [],
   "source": [
    "job_data.to_csv(\"Output/ddbb_{0}_{1}_.csv\".format(job_name,country_name))"
   ]
  }
 ],
 "metadata": {
  "kernelspec": {
   "display_name": "Python 3 (ipykernel)",
   "language": "python",
   "name": "python3"
  },
  "language_info": {
   "codemirror_mode": {
    "name": "ipython",
    "version": 3
   },
   "file_extension": ".py",
   "mimetype": "text/x-python",
   "name": "python",
   "nbconvert_exporter": "python",
   "pygments_lexer": "ipython3",
   "version": "3.11.3"
  },
  "toc": {
   "base_numbering": 1,
   "nav_menu": {},
   "number_sections": true,
   "sideBar": true,
   "skip_h1_title": false,
   "title_cell": "Table of Contents",
   "title_sidebar": "Contents",
   "toc_cell": false,
   "toc_position": {},
   "toc_section_display": true,
   "toc_window_display": false
  }
 },
 "nbformat": 4,
 "nbformat_minor": 5
}
